{
 "cells": [
  {
   "cell_type": "code",
   "execution_count": 26,
   "metadata": {},
   "outputs": [],
   "source": [
    "def welcome():\n",
    "    \n",
    "    # Below clear_output() works only in Jupyter,\n",
    "    # For use in IDE apply -  print('\\n'*100)\n",
    "\n",
    "    from IPython.display import clear_output\n",
    "    clear_output()\n",
    "    print('Welcome to Tic Tac Toe!')\n",
    "    print('')\n",
    "    player1 = input('Do you want to be X or O? \\n')\n",
    "    print('')\n",
    "    position = int(input('Please enter a number \\n'))"
   ]
  },
  {
   "cell_type": "code",
   "execution_count": 27,
   "metadata": {},
   "outputs": [
    {
     "name": "stdout",
     "output_type": "stream",
     "text": [
      "Welcome to Tic Tac Toe!\n",
      "\n",
      "Do you want to be X or O? \n",
      "X\n",
      "\n",
      "Please enter a number \n",
      "7\n"
     ]
    }
   ],
   "source": [
    "welcome()"
   ]
  },
  {
   "cell_type": "code",
   "execution_count": null,
   "metadata": {},
   "outputs": [],
   "source": []
  }
 ],
 "metadata": {
  "kernelspec": {
   "display_name": "Python 3",
   "language": "python",
   "name": "python3"
  },
  "language_info": {
   "codemirror_mode": {
    "name": "ipython",
    "version": 3
   },
   "file_extension": ".py",
   "mimetype": "text/x-python",
   "name": "python",
   "nbconvert_exporter": "python",
   "pygments_lexer": "ipython3",
   "version": "3.7.6"
  }
 },
 "nbformat": 4,
 "nbformat_minor": 2
}
