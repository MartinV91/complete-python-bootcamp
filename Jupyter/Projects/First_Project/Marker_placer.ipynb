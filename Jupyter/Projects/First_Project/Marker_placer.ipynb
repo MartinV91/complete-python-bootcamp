{
 "cells": [
  {
   "cell_type": "code",
   "execution_count": 1,
   "metadata": {},
   "outputs": [],
   "source": [
    "def place_marker(board,value,position):\n",
    "\n",
    "    #display_board()\n",
    "    #test_board = ['#','X','O','X','O','X','O','X','O','X']\n",
    "    #board = ['','','','','','','','','','']\n",
    "    \n",
    "    #marker = input()\n",
    "    \n",
    "        \n",
    "    # Input\n",
    "    #value = 'X' #input('Put your sign here \\n')\n",
    "    #position = 7 #int(input('Enter a number \\n'))\n",
    "    \n",
    "    \n",
    "    # CREATE THE BOARD\n",
    "    #board = ['','','','','','','','','','']\n",
    "    #board = ['#','X','O','X','O','X','O','X','O','X']\n",
    "    \n",
    "    # Assign a number to every cell in the board\n",
    "    for i in str(position):\n",
    "        board[position] = value\n",
    "        print(board[7] + ' | '+ board[8] + ' | '+ board[9])\n",
    "        print('----------')\n",
    "        print(board[4] + ' | '+ board[5] + ' | '+ board[6])\n",
    "        print('----------')\n",
    "        print(board[1] + ' | '+ board[2] + ' | '+ board[3])"
   ]
  },
  {
   "cell_type": "code",
   "execution_count": 2,
   "metadata": {},
   "outputs": [
    {
     "name": "stdout",
     "output_type": "stream",
     "text": [
      "X | O | O\n",
      "----------\n",
      "O | X | O\n",
      "----------\n",
      "X | O | X\n"
     ]
    }
   ],
   "source": [
    "board = ['#','X','O','X','O','X','O','X','O','X']\n",
    "place_marker(board,'O',9)"
   ]
  },
  {
   "cell_type": "code",
   "execution_count": 3,
   "metadata": {},
   "outputs": [],
   "source": [
    "def display_board():\n",
    "\n",
    "        board = ['','','','','','','','','','']\n",
    "        print(board[7] + ' | '+ board[8] + ' | '+ board[9])\n",
    "        print('----------')\n",
    "        print(board[4] + ' | '+ board[5] + ' | '+ board[6])\n",
    "        print('----------')\n",
    "        print(board[1] + ' | '+ board[2] + ' | '+ board[3])"
   ]
  },
  {
   "cell_type": "code",
   "execution_count": 18,
   "metadata": {},
   "outputs": [
    {
     "name": "stdout",
     "output_type": "stream",
     "text": [
      " |  | \n",
      "----------\n",
      " |  | \n",
      "----------\n",
      " |  | \n"
     ]
    }
   ],
   "source": [
    "display_board()"
   ]
  },
  {
   "cell_type": "code",
   "execution_count": 6,
   "metadata": {},
   "outputs": [],
   "source": [
    "def initial_function(n):\n",
    "    print(n)"
   ]
  },
  {
   "cell_type": "code",
   "execution_count": 4,
   "metadata": {},
   "outputs": [],
   "source": [
    "def test():\n",
    "    print('vgradena funkciq')"
   ]
  },
  {
   "cell_type": "code",
   "execution_count": 7,
   "metadata": {},
   "outputs": [
    {
     "name": "stdout",
     "output_type": "stream",
     "text": [
      "alabala\n"
     ]
    }
   ],
   "source": [
    "initial_function('alabala')"
   ]
  },
  {
   "cell_type": "code",
   "execution_count": null,
   "metadata": {},
   "outputs": [],
   "source": []
  }
 ],
 "metadata": {
  "kernelspec": {
   "display_name": "Python 3",
   "language": "python",
   "name": "python3"
  },
  "language_info": {
   "codemirror_mode": {
    "name": "ipython",
    "version": 3
   },
   "file_extension": ".py",
   "mimetype": "text/x-python",
   "name": "python",
   "nbconvert_exporter": "python",
   "pygments_lexer": "ipython3",
   "version": "3.7.6"
  }
 },
 "nbformat": 4,
 "nbformat_minor": 2
}
