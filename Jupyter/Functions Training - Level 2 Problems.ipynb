{
 "cells": [
  {
   "cell_type": "code",
   "execution_count": 18,
   "metadata": {},
   "outputs": [],
   "source": [
    "def has_33(a,b,c):\n",
    "    \n",
    "    if (a == 3 and b == 3) or (b == 3 and c == 3):\n",
    "        print(True)\n",
    "    else:\n",
    "        print(False)"
   ]
  },
  {
   "cell_type": "code",
   "execution_count": 19,
   "metadata": {},
   "outputs": [
    {
     "name": "stdout",
     "output_type": "stream",
     "text": [
      "False\n"
     ]
    }
   ],
   "source": [
    "has_33(1,2,3)"
   ]
  },
  {
   "cell_type": "code",
   "execution_count": 45,
   "metadata": {},
   "outputs": [],
   "source": [
    "def paper_doll(text):\n",
    "    \n",
    "    for i in text:\n",
    "        print(i*3)"
   ]
  },
  {
   "cell_type": "code",
   "execution_count": 46,
   "metadata": {},
   "outputs": [
    {
     "name": "stdout",
     "output_type": "stream",
     "text": [
      "MMM\n",
      "iii\n",
      "sss\n",
      "sss\n",
      "iii\n",
      "sss\n",
      "sss\n",
      "iii\n",
      "ppp\n",
      "ppp\n",
      "iii\n"
     ]
    }
   ],
   "source": [
    "paper_doll('Mississippi')"
   ]
  },
  {
   "cell_type": "code",
   "execution_count": 97,
   "metadata": {},
   "outputs": [],
   "source": [
    "def blackjack(a,b,c):\n",
    "    if a != range(1,12) or b != range(1,12) or c != range(1,12):\n",
    "        ('Choose numbers between 1-11')\n",
    "        sum = a + b + c\n",
    "        if sum <= 21:\n",
    "            print('The sum is', sum)\n",
    "        else:\n",
    "            print('Sum exceeds 21 and there is not 11 in the numbers')\n",
    "            if sum > 21 and (a == 11 or b == 11 or c == 11):\n",
    "                adjusted = sum - 10\n",
    "                print(\"Sum after adjustment is\", adjusted)\n",
    "                if adjusted > 21:\n",
    "                    print('BUST')"
   ]
  },
  {
   "cell_type": "code",
   "execution_count": 98,
   "metadata": {},
   "outputs": [
    {
     "name": "stdout",
     "output_type": "stream",
     "text": [
      "Sum exceeds 21 and there is not 11 in the numbers\n",
      "Sum after adjustment is 19\n"
     ]
    }
   ],
   "source": [
    "blackjack(9,9,11)"
   ]
  },
  {
   "cell_type": "code",
   "execution_count": null,
   "metadata": {},
   "outputs": [],
   "source": []
  }
 ],
 "metadata": {
  "kernelspec": {
   "display_name": "Python 3",
   "language": "python",
   "name": "python3"
  },
  "language_info": {
   "codemirror_mode": {
    "name": "ipython",
    "version": 3
   },
   "file_extension": ".py",
   "mimetype": "text/x-python",
   "name": "python",
   "nbconvert_exporter": "python",
   "pygments_lexer": "ipython3",
   "version": "3.7.6"
  }
 },
 "nbformat": 4,
 "nbformat_minor": 2
}
