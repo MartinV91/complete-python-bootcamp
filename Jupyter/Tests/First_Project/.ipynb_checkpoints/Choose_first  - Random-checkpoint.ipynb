{
 "cells": [
  {
   "cell_type": "code",
   "execution_count": 29,
   "metadata": {},
   "outputs": [],
   "source": [
    "def choose_first():\n",
    "    import random\n",
    "    \n",
    "    player1 = random.randint(0,1000)\n",
    "    print(player1)\n",
    "    player2 = random.randint(0,1000)\n",
    "    print(player2)\n",
    "    \n",
    "    \n",
    "    if player1 > player2:\n",
    "        print(\"Player 1 turn\")\n",
    "    else:\n",
    "        print(\"Player 2 turn\")\n",
    "    "
   ]
  },
  {
   "cell_type": "code",
   "execution_count": 35,
   "metadata": {},
   "outputs": [
    {
     "name": "stdout",
     "output_type": "stream",
     "text": [
      "597\n",
      "780\n",
      "Player 2 turn\n"
     ]
    }
   ],
   "source": [
    "choose_first()"
   ]
  },
  {
   "cell_type": "code",
   "execution_count": null,
   "metadata": {},
   "outputs": [],
   "source": []
  }
 ],
 "metadata": {
  "kernelspec": {
   "display_name": "Python 3",
   "language": "python",
   "name": "python3"
  },
  "language_info": {
   "codemirror_mode": {
    "name": "ipython",
    "version": 3
   },
   "file_extension": ".py",
   "mimetype": "text/x-python",
   "name": "python",
   "nbconvert_exporter": "python",
   "pygments_lexer": "ipython3",
   "version": "3.7.6"
  }
 },
 "nbformat": 4,
 "nbformat_minor": 2
}
