{
 "cells": [
  {
   "cell_type": "code",
   "execution_count": 27,
   "metadata": {},
   "outputs": [],
   "source": [
    "def display_board():\n",
    "    \n",
    "    # Input\n",
    "    value = input('Put your sign here \\n')\n",
    "    position = int(input('Enter a number \\n'))\n",
    "    \n",
    "    \n",
    "    # CREATE THE BOARD\n",
    "    board = ['','','','','','','','','','']\n",
    "    #board = ['#','X','O','X','O','X','O','X','O','X']\n",
    "    \n",
    "    # Assign a number to every cell in the board\n",
    "    for i in str(position):\n",
    "        board[position] = value\n",
    "        print(board[7] + ' | '+ board[8] + ' | '+ board[9])\n",
    "        print('----------')\n",
    "        print(board[4] + ' | '+ board[5] + ' | '+ board[6])\n",
    "        print('----------')\n",
    "        print(board[1] + ' | '+ board[2] + ' | '+ board[3])"
   ]
  },
  {
   "cell_type": "code",
   "execution_count": 26,
   "metadata": {},
   "outputs": [
    {
     "name": "stdout",
     "output_type": "stream",
     "text": [
      "Enter a number \n",
      "1\n",
      "X | O | X\n",
      "----------\n",
      "O | X | O\n",
      "----------\n",
      "X | O | X\n"
     ]
    }
   ],
   "source": [
    "display_board()"
   ]
  },
  {
   "cell_type": "code",
   "execution_count": 23,
   "metadata": {},
   "outputs": [
    {
     "name": "stdout",
     "output_type": "stream",
     "text": [
      " |  | \n",
      "----------\n",
      " |  | \n",
      "----------\n",
      " |  | \n"
     ]
    }
   ],
   "source": [
    "    board = ['','','','','','','','','']\n",
    "    print(board[6] + ' | '+ board[7] + ' | '+ board[8])\n",
    "    print('----------')\n",
    "    print(board[3] + ' | '+ board[4] + ' | '+ board[5])\n",
    "    print('----------')\n",
    "    print(board[0] + ' | '+ board[1] + ' | '+ board[2])"
   ]
  },
  {
   "cell_type": "code",
   "execution_count": 48,
   "metadata": {},
   "outputs": [],
   "source": [
    "names = ['martin','pesho']"
   ]
  },
  {
   "cell_type": "code",
   "execution_count": 49,
   "metadata": {},
   "outputs": [],
   "source": [
    "names.insert(1,'Kircho')"
   ]
  },
  {
   "cell_type": "code",
   "execution_count": 50,
   "metadata": {},
   "outputs": [
    {
     "data": {
      "text/plain": [
       "['martin', 'Kircho', 'pesho']"
      ]
     },
     "execution_count": 50,
     "metadata": {},
     "output_type": "execute_result"
    }
   ],
   "source": [
    "names"
   ]
  },
  {
   "cell_type": "code",
   "execution_count": 60,
   "metadata": {},
   "outputs": [],
   "source": [
    "names[0] = 'PETKA'"
   ]
  },
  {
   "cell_type": "code",
   "execution_count": 52,
   "metadata": {},
   "outputs": [
    {
     "data": {
      "text/plain": [
       "['PETKA', 'Kircho', 'pesho']"
      ]
     },
     "execution_count": 52,
     "metadata": {},
     "output_type": "execute_result"
    }
   ],
   "source": [
    "names"
   ]
  },
  {
   "cell_type": "code",
   "execution_count": 59,
   "metadata": {},
   "outputs": [],
   "source": [
    "names = ['']"
   ]
  },
  {
   "cell_type": "code",
   "execution_count": 61,
   "metadata": {},
   "outputs": [
    {
     "data": {
      "text/plain": [
       "['PETKA']"
      ]
     },
     "execution_count": 61,
     "metadata": {},
     "output_type": "execute_result"
    }
   ],
   "source": [
    "names"
   ]
  },
  {
   "cell_type": "code",
   "execution_count": 62,
   "metadata": {},
   "outputs": [],
   "source": [
    "def change(n):\n",
    "    value = 'X'\n",
    "    names = ['','']\n",
    "    \n",
    "    if n == 1:\n",
    "        names[0] = value\n",
    "        print(names)\n",
    "        "
   ]
  },
  {
   "cell_type": "code",
   "execution_count": 64,
   "metadata": {},
   "outputs": [
    {
     "name": "stdout",
     "output_type": "stream",
     "text": [
      "['X', '']\n"
     ]
    }
   ],
   "source": [
    "change(1)"
   ]
  },
  {
   "cell_type": "code",
   "execution_count": null,
   "metadata": {},
   "outputs": [],
   "source": []
  }
 ],
 "metadata": {
  "kernelspec": {
   "display_name": "Python 3",
   "language": "python",
   "name": "python3"
  },
  "language_info": {
   "codemirror_mode": {
    "name": "ipython",
    "version": 3
   },
   "file_extension": ".py",
   "mimetype": "text/x-python",
   "name": "python",
   "nbconvert_exporter": "python",
   "pygments_lexer": "ipython3",
   "version": "3.7.6"
  }
 },
 "nbformat": 4,
 "nbformat_minor": 2
}
